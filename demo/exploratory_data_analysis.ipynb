{
 "cells": [
  {
   "cell_type": "code",
   "execution_count": null,
   "metadata": {
    "collapsed": true
   },
   "outputs": [],
   "source": [
    "import pandas as pd\n",
    "from demo.preprocess import load_data\n",
    "\n",
    "test_s1_file_name = ['submission_s1.csv']\n",
    "train_s1_file_name = ['all_knowledge.csv', 'course.csv', 'course1_exams.csv', 'course2_exams.csv', \n",
    "            'course3_exams.csv', 'course4_exams.csv', 'course5_exams.csv', 'course6_exams.csv',\n",
    "            'course7_exams.csv', 'course8_exams.csv', 'exam_score.csv', 'student.csv']\n",
    "\n",
    "for test_file in test_s1_file_name:\n",
    "    df = load_data().get_test_s1(test_file, 'pd')\n",
    "    print(df.isnull.sum())\n",
    "\n",
    "for train_file in train_s1_file_name:\n",
    "    df = load_data().get_train_s1(train_file, 'pd')\n",
    "    print(df.isnull.sum())"
   ]
  },
  {
   "cell_type": "code",
   "execution_count": null,
   "outputs": [],
   "source": [
    "\n"
   ],
   "metadata": {
    "collapsed": false,
    "pycharm": {
     "name": "#%%\n"
    }
   }
  }
 ],
 "metadata": {
  "language_info": {
   "codemirror_mode": {
    "name": "ipython",
    "version": 2
   },
   "file_extension": ".py",
   "mimetype": "text/x-python",
   "name": "python",
   "nbconvert_exporter": "python",
   "pygments_lexer": "ipython2",
   "version": "2.7.6"
  },
  "kernelspec": {
   "name": "pycharm-e50da876",
   "language": "python",
   "display_name": "PyCharm (ForecastScore)"
  },
  "pycharm": {
   "stem_cell": {
    "cell_type": "raw",
    "source": [],
    "metadata": {
     "collapsed": false
    }
   }
  }
 },
 "nbformat": 4,
 "nbformat_minor": 0
}