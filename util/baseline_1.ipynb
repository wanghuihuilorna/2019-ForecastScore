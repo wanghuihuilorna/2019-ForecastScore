{
 "cells": [
  {
   "cell_type": "code",
   "execution_count": 36,
   "metadata": {
    "collapsed": true,
    "pycharm": {
     "is_executing": false
    }
   },
   "outputs": [],
   "source": [
    "import pandas as pd\n",
    "import numpy as np\n",
    "from sklearn.model_selection import StratifiedKFold\n",
    "from lightgbm import LGBMClassifier\n",
    "from lightgbm import LGBMRegressor\n",
    "from sklearn.metrics import f1_score\n",
    "from sklearn.metrics import mean_squared_error\n",
    "import matplotlib.pyplot as plt\n",
    "from tqdm import tqdm\n",
    "from sklearn.preprocessing import LabelEncoder\n",
    "#import xgboost as xgb\n",
    "#import catboost as cb\n",
    "%matplotlib inline\n",
    "pd.set_option('display.max_columns', None)\n"
   ]
  },
  {
   "cell_type": "code",
   "execution_count": 37,
   "metadata": {
    "collapsed": false,
    "pycharm": {
     "is_executing": false
    }
   },
   "outputs": [],
   "source": [
    "df_train = pd.read_csv('/home/wjunneng/Python/ForecastScore/data/train_s1/exam_score.csv')\n",
    "df_test = pd.read_csv('/home/wjunneng/Python/ForecastScore/data/test_s1/submission_s1.csv')\n",
    "df_test.rename(columns={'pred':'score'},inplace = True)\n",
    "course_class = pd.read_csv('/home/wjunneng/Python/ForecastScore/data/train_s1/course.csv')\n",
    "student = pd.read_csv('/home/wjunneng/Python/ForecastScore/data/train_s1/student.csv')\n",
    "all_know = pd.read_csv('/home/wjunneng/Python/ForecastScore/data/train_s1/all_knowledge.csv')\n",
    "df_all = df_train.append(df_test)\n",
    "df_all = df_all.merge(course_class, on='course', how='left')\n",
    "df_all = df_all.merge(student, on='student_id', how='left')\n"
   ]
  },
  {
   "cell_type": "code",
   "execution_count": 38,
   "metadata": {
    "collapsed": false,
    "pycharm": {
     "is_executing": false
    }
   },
   "outputs": [],
   "source": [
    "tmp1 = df_train.groupby(by=['student_id','course'], as_index=False)['score'].agg({'mean_score':np.mean, 'median_score':np.median, 'std_score':np.std,'max_score':np.max,'min_score':np.min})\n",
    "tmp2 = df_train.groupby(by=['student_id'], as_index=False)['score'].agg({'s_mean_score':np.mean, 's_median_score':np.median, 's_std_score':np.std,'s_max_score':np.max,'min_score':np.min})\n"
   ]
  },
  {
   "cell_type": "code",
   "execution_count": 39,
   "metadata": {
    "collapsed": false,
    "pycharm": {
     "is_executing": false
    }
   },
   "outputs": [],
   "source": [
    "df_all=df_all.merge(tmp1, on=['student_id','course'], how='left')\n",
    "df_all=df_all.merge(tmp2, on=['student_id'], how='left')\n"
   ]
  },
  {
   "cell_type": "code",
   "execution_count": 40,
   "metadata": {
    "collapsed": false,
    "pycharm": {
     "is_executing": false
    }
   },
   "outputs": [
    {
     "name": "stderr",
     "text": [
      "/home/wjunneng/Python/anaconda3/envs/lightgbm/lib/python3.6/site-packages/pandas/core/frame.py:7116: FutureWarning: Sorting because non-concatenation axis is not aligned. A future version\nof pandas will change to not sort by default.\n\nTo accept the future behavior, pass 'sort=False'.\n\nTo retain the current behavior and silence the warning, pass 'sort=True'.\n\n  sort=sort,\n"
     ],
     "output_type": "stream"
    }
   ],
   "source": [
    "course1_exam = pd.read_csv('/home/wjunneng/Python/ForecastScore/data/train_s1/course1_exams.csv')\n",
    "course2_exam = pd.read_csv('/home/wjunneng/Python/ForecastScore/data/train_s1/course2_exams.csv')\n",
    "course3_exam = pd.read_csv('/home/wjunneng/Python/ForecastScore/data/train_s1/course3_exams.csv')\n",
    "course4_exam = pd.read_csv('/home/wjunneng/Python/ForecastScore/data/train_s1/course4_exams.csv')\n",
    "course5_exam = pd.read_csv('/home/wjunneng/Python/ForecastScore/data/train_s1/course5_exams.csv')\n",
    "course6_exam = pd.read_csv('/home/wjunneng/Python/ForecastScore/data/train_s1/course6_exams.csv')\n",
    "course7_exam = pd.read_csv('/home/wjunneng/Python/ForecastScore/data/train_s1/course7_exams.csv')\n",
    "course8_exam = pd.read_csv('/home/wjunneng/Python/ForecastScore/data/train_s1/course8_exams.csv')\n",
    "#col_c1 = [i for i in course1_exam.columns if i not in ['course','exam_id']]\n",
    "tmp4=1\n",
    "for i in [course1_exam,course2_exam,course3_exam,course4_exam,course5_exam,course6_exam,course7_exam,course8_exam]:\n",
    "    name = i\n",
    "    col_c1 = [i for i in name.columns if i not in ['course','exam_id']]\n",
    "    name['course'] ='course'+str(tmp4)\n",
    "    tmp2 =np.array(all_know.loc[all_know['course'] == ('course'+str(tmp4)),:]['complexity'])\n",
    "    tmp = name[col_c1]\n",
    "    tmp3 =np.dot(tmp.values,tmp2)\n",
    "    name['hard'] = tmp3\n",
    "    name['hard_inverse'] = name['hard'].apply(lambda x:1/(x+1e-10))\n",
    "    tmp4 = tmp4+1\n",
    "\n",
    "course_exam = course1_exam.append(course2_exam)\n",
    "course_exam = course_exam.append(course3_exam)\n",
    "course_exam = course_exam.append(course4_exam)\n",
    "course_exam = course_exam.append(course5_exam)\n",
    "course_exam = course_exam.append(course6_exam)\n",
    "course_exam = course_exam.append(course7_exam)\n",
    "course_exam = course_exam.append(course8_exam)\n",
    "course_exam.fillna(0,inplace = True)\n"
   ]
  },
  {
   "cell_type": "code",
   "execution_count": 41,
   "metadata": {
    "collapsed": false,
    "pycharm": {
     "is_executing": false
    }
   },
   "outputs": [],
   "source": [
    "sub_course_exam = course_exam[['course','exam_id','hard','hard_inverse']]\n"
   ]
  },
  {
   "cell_type": "code",
   "execution_count": 42,
   "metadata": {
    "collapsed": false,
    "pycharm": {
     "is_executing": false
    }
   },
   "outputs": [
    {
     "data": {
      "text/plain": "(73500, 16)"
     },
     "metadata": {},
     "output_type": "execute_result",
     "execution_count": 42
    }
   ],
   "source": [
    "df_all.shape\n"
   ]
  },
  {
   "cell_type": "code",
   "execution_count": 43,
   "metadata": {
    "collapsed": true,
    "pycharm": {
     "is_executing": false
    }
   },
   "outputs": [],
   "source": [
    "df_all=df_all.merge(sub_course_exam, on=['exam_id','course'], how='left')\n"
   ]
  },
  {
   "cell_type": "code",
   "execution_count": 44,
   "metadata": {
    "collapsed": false,
    "pycharm": {
     "is_executing": false
    }
   },
   "outputs": [
    {
     "data": {
      "text/plain": "(73500, 18)"
     },
     "metadata": {},
     "output_type": "execute_result",
     "execution_count": 44
    }
   ],
   "source": [
    "df_all.shape\n"
   ]
  },
  {
   "cell_type": "code",
   "execution_count": 45,
   "metadata": {
    "collapsed": false,
    "pycharm": {
     "is_executing": false
    }
   },
   "outputs": [],
   "source": [
    "for i in ['course','course_class','exam_id','student_id']:\n",
    "    lbl = LabelEncoder()\n",
    "    #all_data[i+\"_count\"] = all_data.groupby([i])[i].transform('count')\n",
    "    #all_data[i+\"_rank\"] = all_data[i+\"_count\"].rank(method='min')\n",
    "    df_all[i] = lbl.fit_transform(df_all[i].astype(str))\n"
   ]
  },
  {
   "cell_type": "code",
   "execution_count": 46,
   "metadata": {
    "collapsed": true,
    "pycharm": {
     "is_executing": false
    }
   },
   "outputs": [],
   "source": [
    "df_train = df_all[:65500]\n",
    "df_test = df_all[65500:].reset_index(drop=True)\n",
    "col = [i for i in df_all.columns if i not in ['score']]\n",
    "X_train = df_train[col]\n",
    "y = df_train['score']\n"
   ]
  },
  {
   "cell_type": "code",
   "execution_count": 47,
   "outputs": [
    {
     "data": {
      "text/plain": "   student_id  course  exam_id  course_class  gender  mean_score  \\\n0          80       0      118             0       0   82.611111   \n1          48       0      118             0       0   78.222222   \n2         217       0      118             0       0   80.666667   \n3         329       0      118             0       1   82.555556   \n4         237       0      118             0       0   80.055556   \n\n   median_score  std_score  max_score  min_score_x  s_mean_score  \\\n0          82.5   8.395649         98           67     76.290076   \n1          77.5   4.037407         88           71     86.068702   \n2          80.0   7.483315         96           66     80.511450   \n3          82.0   5.124591         92           76     88.847328   \n4          80.0   4.398826         89           71     82.129771   \n\n   s_median_score  s_std_score  s_max_score  min_score_y  hard  hard_inverse  \n0              77     9.713186           98            0   175      0.005714  \n1              86     7.208105          100           71   175      0.005714  \n2              81     6.476426           96           66   175      0.005714  \n3              90     7.665581          100           68   175      0.005714  \n4              83    12.204915           99            0   175      0.005714  ",
      "text/html": "<div>\n<style scoped>\n    .dataframe tbody tr th:only-of-type {\n        vertical-align: middle;\n    }\n\n    .dataframe tbody tr th {\n        vertical-align: top;\n    }\n\n    .dataframe thead th {\n        text-align: right;\n    }\n</style>\n<table border=\"1\" class=\"dataframe\">\n  <thead>\n    <tr style=\"text-align: right;\">\n      <th></th>\n      <th>student_id</th>\n      <th>course</th>\n      <th>exam_id</th>\n      <th>course_class</th>\n      <th>gender</th>\n      <th>mean_score</th>\n      <th>median_score</th>\n      <th>std_score</th>\n      <th>max_score</th>\n      <th>min_score_x</th>\n      <th>s_mean_score</th>\n      <th>s_median_score</th>\n      <th>s_std_score</th>\n      <th>s_max_score</th>\n      <th>min_score_y</th>\n      <th>hard</th>\n      <th>hard_inverse</th>\n    </tr>\n  </thead>\n  <tbody>\n    <tr>\n      <th>0</th>\n      <td>80</td>\n      <td>0</td>\n      <td>118</td>\n      <td>0</td>\n      <td>0</td>\n      <td>82.611111</td>\n      <td>82.5</td>\n      <td>8.395649</td>\n      <td>98</td>\n      <td>67</td>\n      <td>76.290076</td>\n      <td>77</td>\n      <td>9.713186</td>\n      <td>98</td>\n      <td>0</td>\n      <td>175</td>\n      <td>0.005714</td>\n    </tr>\n    <tr>\n      <th>1</th>\n      <td>48</td>\n      <td>0</td>\n      <td>118</td>\n      <td>0</td>\n      <td>0</td>\n      <td>78.222222</td>\n      <td>77.5</td>\n      <td>4.037407</td>\n      <td>88</td>\n      <td>71</td>\n      <td>86.068702</td>\n      <td>86</td>\n      <td>7.208105</td>\n      <td>100</td>\n      <td>71</td>\n      <td>175</td>\n      <td>0.005714</td>\n    </tr>\n    <tr>\n      <th>2</th>\n      <td>217</td>\n      <td>0</td>\n      <td>118</td>\n      <td>0</td>\n      <td>0</td>\n      <td>80.666667</td>\n      <td>80.0</td>\n      <td>7.483315</td>\n      <td>96</td>\n      <td>66</td>\n      <td>80.511450</td>\n      <td>81</td>\n      <td>6.476426</td>\n      <td>96</td>\n      <td>66</td>\n      <td>175</td>\n      <td>0.005714</td>\n    </tr>\n    <tr>\n      <th>3</th>\n      <td>329</td>\n      <td>0</td>\n      <td>118</td>\n      <td>0</td>\n      <td>1</td>\n      <td>82.555556</td>\n      <td>82.0</td>\n      <td>5.124591</td>\n      <td>92</td>\n      <td>76</td>\n      <td>88.847328</td>\n      <td>90</td>\n      <td>7.665581</td>\n      <td>100</td>\n      <td>68</td>\n      <td>175</td>\n      <td>0.005714</td>\n    </tr>\n    <tr>\n      <th>4</th>\n      <td>237</td>\n      <td>0</td>\n      <td>118</td>\n      <td>0</td>\n      <td>0</td>\n      <td>80.055556</td>\n      <td>80.0</td>\n      <td>4.398826</td>\n      <td>89</td>\n      <td>71</td>\n      <td>82.129771</td>\n      <td>83</td>\n      <td>12.204915</td>\n      <td>99</td>\n      <td>0</td>\n      <td>175</td>\n      <td>0.005714</td>\n    </tr>\n  </tbody>\n</table>\n</div>"
     },
     "metadata": {},
     "output_type": "execute_result",
     "execution_count": 47
    }
   ],
   "source": [
    "X_train.head()\n"
   ],
   "metadata": {
    "collapsed": false,
    "pycharm": {
     "name": "#%%\n",
     "is_executing": false
    }
   }
  },
  {
   "cell_type": "code",
   "execution_count": 48,
   "metadata": {
    "collapsed": false,
    "pycharm": {
     "is_executing": false
    }
   },
   "outputs": [
    {
     "name": "stdout",
     "text": [
      "Training until validation scores don't improve for 20 rounds.\n",
      "[10]\ttrain's rmse: 9.44391\ttrain's l2: 89.1875\tval's rmse: 9.46102\tval's l2: 89.5108\n[20]\ttrain's rmse: 8.94058\ttrain's l2: 79.934\tval's rmse: 8.95885\tval's l2: 80.2611\n[30]\ttrain's rmse: 8.49467\ttrain's l2: 72.1594\tval's rmse: 8.51467\tval's l2: 72.4996\n",
      "[40]\ttrain's rmse: 8.09421\ttrain's l2: 65.5163\tval's rmse: 8.11548\tval's l2: 65.8611\n[50]\ttrain's rmse: 7.75774\ttrain's l2: 60.1825\tval's rmse: 7.7808\tval's l2: 60.5409\n[60]\ttrain's rmse: 7.44475\ttrain's l2: 55.4243\tval's rmse: 7.46978\tval's l2: 55.7976\n",
      "[70]\ttrain's rmse: 7.18888\ttrain's l2: 51.68\tval's rmse: 7.21644\tval's l2: 52.077\n",
      "[80]\ttrain's rmse: 6.9601\ttrain's l2: 48.443\tval's rmse: 6.98994\tval's l2: 48.8593\n[90]\ttrain's rmse: 6.75894\ttrain's l2: 45.6833\tval's rmse: 6.79148\tval's l2: 46.1242\n",
      "[100]\ttrain's rmse: 6.5952\ttrain's l2: 43.4966\tval's rmse: 6.63043\tval's l2: 43.9626\n[110]\ttrain's rmse: 6.45178\ttrain's l2: 41.6255\tval's rmse: 6.49054\tval's l2: 42.1271\n[120]\ttrain's rmse: 6.32602\ttrain's l2: 40.0185\tval's rmse: 6.36718\tval's l2: 40.541\n[130]\ttrain's rmse: 6.22166\ttrain's l2: 38.7091\tval's rmse: 6.26587\tval's l2: 39.2611\n",
      "[140]\ttrain's rmse: 6.13412\ttrain's l2: 37.6274\tval's rmse: 6.18165\tval's l2: 38.2127\n[150]\ttrain's rmse: 6.05777\ttrain's l2: 36.6966\tval's rmse: 6.10809\tval's l2: 37.3088\n[160]\ttrain's rmse: 5.99247\ttrain's l2: 35.9097\tval's rmse: 6.04471\tval's l2: 36.5386\n[170]\ttrain's rmse: 5.93488\ttrain's l2: 35.2228\tval's rmse: 5.99037\tval's l2: 35.8845\n",
      "[180]\ttrain's rmse: 5.88823\ttrain's l2: 34.6712\tval's rmse: 5.94677\tval's l2: 35.364\n[190]\ttrain's rmse: 5.84624\ttrain's l2: 34.1785\tval's rmse: 5.90725\tval's l2: 34.8956\n[200]\ttrain's rmse: 5.81193\ttrain's l2: 33.7785\tval's rmse: 5.87639\tval's l2: 34.532\n[210]\ttrain's rmse: 5.7826\ttrain's l2: 33.4385\tval's rmse: 5.84962\tval's l2: 34.2181\n",
      "[220]\ttrain's rmse: 5.75807\ttrain's l2: 33.1554\tval's rmse: 5.82754\tval's l2: 33.9602\n[230]\ttrain's rmse: 5.73365\ttrain's l2: 32.8747\tval's rmse: 5.80681\tval's l2: 33.719\n[240]\ttrain's rmse: 5.71267\ttrain's l2: 32.6346\tval's rmse: 5.78846\tval's l2: 33.5063\n[250]\ttrain's rmse: 5.69449\ttrain's l2: 32.4273\tval's rmse: 5.77235\tval's l2: 33.3201\n",
      "[260]\ttrain's rmse: 5.68033\ttrain's l2: 32.2661\tval's rmse: 5.76137\tval's l2: 33.1933\n[270]\ttrain's rmse: 5.66473\ttrain's l2: 32.0891\tval's rmse: 5.74896\tval's l2: 33.0506\n[280]\ttrain's rmse: 5.65229\ttrain's l2: 31.9484\tval's rmse: 5.73884\tval's l2: 32.9342\n[290]\ttrain's rmse: 5.64105\ttrain's l2: 31.8214\tval's rmse: 5.73165\tval's l2: 32.8518\n",
      "[300]\ttrain's rmse: 5.63109\ttrain's l2: 31.7092\tval's rmse: 5.72466\tval's l2: 32.7718\n[310]\ttrain's rmse: 5.62199\ttrain's l2: 31.6068\tval's rmse: 5.71892\tval's l2: 32.7061\n[320]\ttrain's rmse: 5.61311\ttrain's l2: 31.507\tval's rmse: 5.71327\tval's l2: 32.6414\n[330]\ttrain's rmse: 5.60382\ttrain's l2: 31.4029\tval's rmse: 5.70768\tval's l2: 32.5776\n",
      "[340]\ttrain's rmse: 5.59583\ttrain's l2: 31.3134\tval's rmse: 5.70165\tval's l2: 32.5089\n[350]\ttrain's rmse: 5.58841\ttrain's l2: 31.2303\tval's rmse: 5.69751\tval's l2: 32.4617\n[360]\ttrain's rmse: 5.58208\ttrain's l2: 31.1597\tval's rmse: 5.69351\tval's l2: 32.4161\n",
      "[370]\ttrain's rmse: 5.57482\ttrain's l2: 31.0786\tval's rmse: 5.68902\tval's l2: 32.365\n[380]\ttrain's rmse: 5.56884\ttrain's l2: 31.0119\tval's rmse: 5.68576\tval's l2: 32.3279\n[390]\ttrain's rmse: 5.56331\ttrain's l2: 30.9504\tval's rmse: 5.68401\tval's l2: 32.3079\n[400]\ttrain's rmse: 5.55664\ttrain's l2: 30.8762\tval's rmse: 5.68016\tval's l2: 32.2642\n[410]\ttrain's rmse: 5.55288\ttrain's l2: 30.8344\tval's rmse: 5.67959\tval's l2: 32.2578\n[420]\ttrain's rmse: 5.54811\ttrain's l2: 30.7816\tval's rmse: 5.67651\tval's l2: 32.2228\n[430]\ttrain's rmse: 5.54416\ttrain's l2: 30.7377\tval's rmse: 5.67547\tval's l2: 32.2109\n[440]\ttrain's rmse: 5.53953\ttrain's l2: 30.6864\tval's rmse: 5.6738\tval's l2: 32.192\n[450]\ttrain's rmse: 5.53471\ttrain's l2: 30.6331\tval's rmse: 5.6714\tval's l2: 32.1648\n[460]\ttrain's rmse: 5.53076\ttrain's l2: 30.5893\tval's rmse: 5.67013\tval's l2: 32.1504\n[470]\ttrain's rmse: 5.52493\ttrain's l2: 30.5248\tval's rmse: 5.66762\tval's l2: 32.1219\n",
      "[480]\ttrain's rmse: 5.52013\ttrain's l2: 30.4718\tval's rmse: 5.66527\tval's l2: 32.0953\n[490]\ttrain's rmse: 5.51427\ttrain's l2: 30.4072\tval's rmse: 5.66164\tval's l2: 32.0542\n[500]\ttrain's rmse: 5.50994\ttrain's l2: 30.3594\tval's rmse: 5.65971\tval's l2: 32.0323\n[510]\ttrain's rmse: 5.50447\ttrain's l2: 30.2992\tval's rmse: 5.65659\tval's l2: 31.997\n[520]\ttrain's rmse: 5.50082\ttrain's l2: 30.259\tval's rmse: 5.65583\tval's l2: 31.9884\n[530]\ttrain's rmse: 5.49624\ttrain's l2: 30.2087\tval's rmse: 5.653\tval's l2: 31.9564\n[540]\ttrain's rmse: 5.49255\ttrain's l2: 30.1681\tval's rmse: 5.65172\tval's l2: 31.942\n[550]\ttrain's rmse: 5.48892\ttrain's l2: 30.1283\tval's rmse: 5.65142\tval's l2: 31.9385\n[560]\ttrain's rmse: 5.48383\ttrain's l2: 30.0724\tval's rmse: 5.64978\tval's l2: 31.92\n[570]\ttrain's rmse: 5.48\ttrain's l2: 30.0304\tval's rmse: 5.64991\tval's l2: 31.9215\n[580]\ttrain's rmse: 5.47762\ttrain's l2: 30.0043\tval's rmse: 5.64985\tval's l2: 31.9209\n[590]\ttrain's rmse: 5.47492\ttrain's l2: 29.9747\tval's rmse: 5.64864\tval's l2: 31.9071\n[600]\ttrain's rmse: 5.47218\ttrain's l2: 29.9448\tval's rmse: 5.64783\tval's l2: 31.8979\n[610]\ttrain's rmse: 5.46895\ttrain's l2: 29.9094\tval's rmse: 5.64742\tval's l2: 31.8933",
      "\n[620]\ttrain's rmse: 5.46541\ttrain's l2: 29.8707\tval's rmse: 5.64695\tval's l2: 31.888\n[630]\ttrain's rmse: 5.46207\ttrain's l2: 29.8342\tval's rmse: 5.64622\tval's l2: 31.8798\n[640]\ttrain's rmse: 5.45935\ttrain's l2: 29.8045\tval's rmse: 5.64663\tval's l2: 31.8844\n[650]\ttrain's rmse: 5.45609\ttrain's l2: 29.7689\tval's rmse: 5.64592\tval's l2: 31.8765\n[660]\ttrain's rmse: 5.45325\ttrain's l2: 29.7379\tval's rmse: 5.64616\tval's l2: 31.8791\n[670]\ttrain's rmse: 5.45065\ttrain's l2: 29.7096\tval's rmse: 5.64592\tval's l2: 31.8764\n[680]\ttrain's rmse: 5.44851\ttrain's l2: 29.6863\tval's rmse: 5.64588\tval's l2: 31.8759\n[690]\ttrain's rmse: 5.44591\ttrain's l2: 29.6579\tval's rmse: 5.64544\tval's l2: 31.871\n[700]\ttrain's rmse: 5.44314\ttrain's l2: 29.6278\tval's rmse: 5.64586\tval's l2: 31.8757\n[710]\ttrain's rmse: 5.44053\ttrain's l2: 29.5993\tval's rmse: 5.64541\tval's l2: 31.8706\n",
      "[720]\ttrain's rmse: 5.4378\ttrain's l2: 29.5697\tval's rmse: 5.64513\tval's l2: 31.8675\n[730]\ttrain's rmse: 5.43522\ttrain's l2: 29.5416\tval's rmse: 5.64613\tval's l2: 31.8788\n[740]\ttrain's rmse: 5.43302\ttrain's l2: 29.5177\tval's rmse: 5.64611\tval's l2: 31.8786\nEarly stopping, best iteration is:\n[723]\ttrain's rmse: 5.43714\ttrain's l2: 29.5624\tval's rmse: 5.64497\tval's l2: 31.8657\n",
      "Training until validation scores don't improve for 20 rounds.\n[10]\ttrain's rmse: 9.44354\ttrain's l2: 89.1805\tval's rmse: 9.44692\tval's l2: 89.2444\n[20]\ttrain's rmse: 8.93988\ttrain's l2: 79.9214\tval's rmse: 8.94479\tval's l2: 80.0093\n[30]\ttrain's rmse: 8.49322\ttrain's l2: 72.1348\tval's rmse: 8.50176\tval's l2: 72.28\n[40]\ttrain's rmse: 8.09026\ttrain's l2: 65.4523\tval's rmse: 8.10213\tval's l2: 65.6445\n[50]\ttrain's rmse: 7.75274\ttrain's l2: 60.1049\tval's rmse: 7.7685\tval's l2: 60.3495\n",
      "[60]\ttrain's rmse: 7.43823\ttrain's l2: 55.3273\tval's rmse: 7.4592\tval's l2: 55.6397\n[70]\ttrain's rmse: 7.1825\ttrain's l2: 51.5883\tval's rmse: 7.20929\tval's l2: 51.9739\n[80]\ttrain's rmse: 6.95346\ttrain's l2: 48.3506\tval's rmse: 6.98671\tval's l2: 48.8141\n[90]\ttrain's rmse: 6.75019\ttrain's l2: 45.5651\tval's rmse: 6.79142\tval's l2: 46.1234\n[100]\ttrain's rmse: 6.58456\ttrain's l2: 43.3564\tval's rmse: 6.63192\tval's l2: 43.9823\n[110]\ttrain's rmse: 6.44109\ttrain's l2: 41.4876\tval's rmse: 6.4951\tval's l2: 42.1863\n[120]\ttrain's rmse: 6.31397\ttrain's l2: 39.8662\tval's rmse: 6.37529\tval's l2: 40.6443\n[130]\ttrain's rmse: 6.20842\ttrain's l2: 38.5445\tval's rmse: 6.2776\tval's l2: 39.4083\n",
      "[140]\ttrain's rmse: 6.12168\ttrain's l2: 37.475\tval's rmse: 6.19683\tval's l2: 38.4007\n[150]\ttrain's rmse: 6.04524\ttrain's l2: 36.5449\tval's rmse: 6.12675\tval's l2: 37.537\n[160]\ttrain's rmse: 5.97933\ttrain's l2: 35.7524\tval's rmse: 6.06702\tval's l2: 36.8088\n[170]\ttrain's rmse: 5.92133\ttrain's l2: 35.0621\tval's rmse: 6.01477\tval's l2: 36.1775\n",
      "[180]\ttrain's rmse: 5.87432\ttrain's l2: 34.5077\tval's rmse: 5.97383\tval's l2: 35.6866\n[190]\ttrain's rmse: 5.83216\ttrain's l2: 34.0141\tval's rmse: 5.93702\tval's l2: 35.2482\n[200]\ttrain's rmse: 5.7977\ttrain's l2: 33.6133\tval's rmse: 5.90861\tval's l2: 34.9116\n[210]\ttrain's rmse: 5.7675\ttrain's l2: 33.264\tval's rmse: 5.88487\tval's l2: 34.6317\n",
      "[220]\ttrain's rmse: 5.74217\ttrain's l2: 32.9725\tval's rmse: 5.86636\tval's l2: 34.4142\n[230]\ttrain's rmse: 5.71832\ttrain's l2: 32.6992\tval's rmse: 5.84818\tval's l2: 34.2012\n[240]\ttrain's rmse: 5.69782\ttrain's l2: 32.4652\tval's rmse: 5.83244\tval's l2: 34.0174\n[250]\ttrain's rmse: 5.67966\ttrain's l2: 32.2585\tval's rmse: 5.81955\tval's l2: 33.8672\n[260]\ttrain's rmse: 5.66412\ttrain's l2: 32.0822\tval's rmse: 5.81004\tval's l2: 33.7565\n[270]\ttrain's rmse: 5.64838\ttrain's l2: 31.9042\tval's rmse: 5.7996\tval's l2: 33.6353\n[280]\ttrain's rmse: 5.63618\ttrain's l2: 31.7665\tval's rmse: 5.79307\tval's l2: 33.5596\n",
      "[290]\ttrain's rmse: 5.62387\ttrain's l2: 31.6279\tval's rmse: 5.7858\tval's l2: 33.4755\n[300]\ttrain's rmse: 5.61364\ttrain's l2: 31.5129\tval's rmse: 5.78026\tval's l2: 33.4114\n[310]\ttrain's rmse: 5.60402\ttrain's l2: 31.405\tval's rmse: 5.77404\tval's l2: 33.3396\n[320]\ttrain's rmse: 5.59445\ttrain's l2: 31.2978\tval's rmse: 5.76817\tval's l2: 33.2718\n[330]\ttrain's rmse: 5.58548\ttrain's l2: 31.1975\tval's rmse: 5.76334\tval's l2: 33.216\n[340]\ttrain's rmse: 5.57874\ttrain's l2: 31.1223\tval's rmse: 5.76038\tval's l2: 33.182\n",
      "[350]\ttrain's rmse: 5.57168\ttrain's l2: 31.0437\tval's rmse: 5.75731\tval's l2: 33.1466\n[360]\ttrain's rmse: 5.56478\ttrain's l2: 30.9667\tval's rmse: 5.75413\tval's l2: 33.11\n[370]\ttrain's rmse: 5.55806\ttrain's l2: 30.8921\tval's rmse: 5.75104\tval's l2: 33.0744\n",
      "[380]\ttrain's rmse: 5.55211\ttrain's l2: 30.826\tval's rmse: 5.74827\tval's l2: 33.0426\n[390]\ttrain's rmse: 5.54679\ttrain's l2: 30.7668\tval's rmse: 5.74668\tval's l2: 33.0244\n[400]\ttrain's rmse: 5.54076\ttrain's l2: 30.7001\tval's rmse: 5.74425\tval's l2: 32.9965\n[410]\ttrain's rmse: 5.53527\ttrain's l2: 30.6392\tval's rmse: 5.74251\tval's l2: 32.9764\n[420]\ttrain's rmse: 5.52932\ttrain's l2: 30.5733\tval's rmse: 5.7387\tval's l2: 32.9327\n[430]\ttrain's rmse: 5.52456\ttrain's l2: 30.5208\tval's rmse: 5.73686\tval's l2: 32.9115\n[440]\ttrain's rmse: 5.51939\ttrain's l2: 30.4636\tval's rmse: 5.73548\tval's l2: 32.8957\n[450]\ttrain's rmse: 5.51437\ttrain's l2: 30.4083\tval's rmse: 5.73382\tval's l2: 32.8767\n[460]\ttrain's rmse: 5.50967\ttrain's l2: 30.3564\tval's rmse: 5.732\tval's l2: 32.8558\n[470]\ttrain's rmse: 5.50374\ttrain's l2: 30.2912\tval's rmse: 5.73047\tval's l2: 32.8383\n",
      "[480]\ttrain's rmse: 5.49969\ttrain's l2: 30.2465\tval's rmse: 5.7296\tval's l2: 32.8284\n[490]\ttrain's rmse: 5.49407\ttrain's l2: 30.1848\tval's rmse: 5.72775\tval's l2: 32.8071\n[500]\ttrain's rmse: 5.49026\ttrain's l2: 30.143\tval's rmse: 5.72673\tval's l2: 32.7954\n[510]\ttrain's rmse: 5.48402\ttrain's l2: 30.0745\tval's rmse: 5.72457\tval's l2: 32.7707\n",
      "[520]\ttrain's rmse: 5.47989\ttrain's l2: 30.0292\tval's rmse: 5.72439\tval's l2: 32.7687\n[530]\ttrain's rmse: 5.47444\ttrain's l2: 29.9695\tval's rmse: 5.72246\tval's l2: 32.7466\n[540]\ttrain's rmse: 5.47006\ttrain's l2: 29.9216\tval's rmse: 5.72198\tval's l2: 32.741\n[550]\ttrain's rmse: 5.46731\ttrain's l2: 29.8914\tval's rmse: 5.72174\tval's l2: 32.7383\n[560]\ttrain's rmse: 5.46298\ttrain's l2: 29.8442\tval's rmse: 5.72163\tval's l2: 32.737\n[570]\ttrain's rmse: 5.45977\ttrain's l2: 29.8091\tval's rmse: 5.72254\tval's l2: 32.7475\nEarly stopping, best iteration is:\n[556]\ttrain's rmse: 5.46423\ttrain's l2: 29.8578\tval's rmse: 5.72113\tval's l2: 32.7314\n",
      "Training until validation scores don't improve for 20 rounds.\n[10]\ttrain's rmse: 9.44631\ttrain's l2: 89.2328\tval's rmse: 9.44954\tval's l2: 89.2938\n[20]\ttrain's rmse: 8.94429\ttrain's l2: 80.0003\tval's rmse: 8.94776\tval's l2: 80.0625\n",
      "[30]\ttrain's rmse: 8.50005\ttrain's l2: 72.2508\tval's rmse: 8.50398\tval's l2: 72.3176\n[40]\ttrain's rmse: 8.09691\ttrain's l2: 65.56\tval's rmse: 8.10133\tval's l2: 65.6316\n[50]\ttrain's rmse: 7.76223\ttrain's l2: 60.2521\tval's rmse: 7.76737\tval's l2: 60.332\n[60]\ttrain's rmse: 7.4501\ttrain's l2: 55.504\tval's rmse: 7.4555\tval's l2: 55.5845\n[70]\ttrain's rmse: 7.19503\ttrain's l2: 51.7685\tval's rmse: 7.20118\tval's l2: 51.8569\n[80]\ttrain's rmse: 6.96824\ttrain's l2: 48.5564\tval's rmse: 6.97519\tval's l2: 48.6533\n[90]\ttrain's rmse: 6.76789\ttrain's l2: 45.8043\tval's rmse: 6.77561\tval's l2: 45.9089\n[100]\ttrain's rmse: 6.60359\ttrain's l2: 43.6074\tval's rmse: 6.61246\tval's l2: 43.7246\n[110]\ttrain's rmse: 6.46019\ttrain's l2: 41.7341\tval's rmse: 6.47115\tval's l2: 41.8758\n[120]\ttrain's rmse: 6.33297\ttrain's l2: 40.1066\tval's rmse: 6.34493\tval's l2: 40.2582\n[130]\ttrain's rmse: 6.22805\ttrain's l2: 38.7886\tval's rmse: 6.24241\tval's l2: 38.9677\n[140]\ttrain's rmse: 6.14125\ttrain's l2: 37.715\tval's rmse: 6.15766\tval's l2: 37.9168\n[150]\ttrain's rmse: 6.06495\ttrain's l2: 36.7837\tval's rmse: 6.08403\tval's l2: 37.0154\n[160]\ttrain's rmse: 5.99937\ttrain's l2: 35.9925\tval's rmse: 6.02179\tval's l2: 36.2619\n",
      "[170]\ttrain's rmse: 5.94192\ttrain's l2: 35.3064\tval's rmse: 5.96572\tval's l2: 35.5898\n[180]\ttrain's rmse: 5.89612\ttrain's l2: 34.7643\tval's rmse: 5.92223\tval's l2: 35.0728\n[190]\ttrain's rmse: 5.85415\ttrain's l2: 34.2711\tval's rmse: 5.88152\tval's l2: 34.5923\n[200]\ttrain's rmse: 5.82022\ttrain's l2: 33.875\tval's rmse: 5.8507\tval's l2: 34.2307\n[210]\ttrain's rmse: 5.79045\ttrain's l2: 33.5293\tval's rmse: 5.82426\tval's l2: 33.922\n[220]\ttrain's rmse: 5.76504\ttrain's l2: 33.2357\tval's rmse: 5.80129\tval's l2: 33.655\n[230]\ttrain's rmse: 5.74086\ttrain's l2: 32.9575\tval's rmse: 5.77984\tval's l2: 33.4065\n[240]\ttrain's rmse: 5.71995\ttrain's l2: 32.7178\tval's rmse: 5.76223\tval's l2: 33.2033\n[250]\ttrain's rmse: 5.70155\ttrain's l2: 32.5077\tval's rmse: 5.74713\tval's l2: 33.0295\n[260]\ttrain's rmse: 5.68595\ttrain's l2: 32.33\tval's rmse: 5.73599\tval's l2: 32.9016\n[270]\ttrain's rmse: 5.67022\ttrain's l2: 32.1514\tval's rmse: 5.72369\tval's l2: 32.7607\n[280]\ttrain's rmse: 5.65711\ttrain's l2: 32.0029\tval's rmse: 5.71423\tval's l2: 32.6525\n",
      "[290]\ttrain's rmse: 5.64503\ttrain's l2: 31.8663\tval's rmse: 5.70507\tval's l2: 32.5478\n[300]\ttrain's rmse: 5.63514\ttrain's l2: 31.7549\tval's rmse: 5.69854\tval's l2: 32.4734\n[310]\ttrain's rmse: 5.62561\ttrain's l2: 31.6474\tval's rmse: 5.6908\tval's l2: 32.3852\n[320]\ttrain's rmse: 5.61649\ttrain's l2: 31.5449\tval's rmse: 5.68397\tval's l2: 32.3076\n[330]\ttrain's rmse: 5.60708\ttrain's l2: 31.4393\tval's rmse: 5.67891\tval's l2: 32.25\n[340]\ttrain's rmse: 5.59852\ttrain's l2: 31.3434\tval's rmse: 5.6735\tval's l2: 32.1886\n[350]\ttrain's rmse: 5.59148\ttrain's l2: 31.2646\tval's rmse: 5.66849\tval's l2: 32.1318\n[360]\ttrain's rmse: 5.58536\ttrain's l2: 31.1962\tval's rmse: 5.66504\tval's l2: 32.0926\n[370]\ttrain's rmse: 5.57841\ttrain's l2: 31.1187\tval's rmse: 5.66132\tval's l2: 32.0505\n[380]\ttrain's rmse: 5.57237\ttrain's l2: 31.0513\tval's rmse: 5.65917\tval's l2: 32.0262\n",
      "[390]\ttrain's rmse: 5.56753\ttrain's l2: 30.9974\tval's rmse: 5.65798\tval's l2: 32.0127\n[400]\ttrain's rmse: 5.56194\ttrain's l2: 30.9352\tval's rmse: 5.65488\tval's l2: 31.9776\n[410]\ttrain's rmse: 5.55838\ttrain's l2: 30.8955\tval's rmse: 5.6535\tval's l2: 31.962\n[420]\ttrain's rmse: 5.55293\ttrain's l2: 30.835\tval's rmse: 5.65163\tval's l2: 31.9409\n[430]\ttrain's rmse: 5.54809\ttrain's l2: 30.7813\tval's rmse: 5.65029\tval's l2: 31.9258\n[440]\ttrain's rmse: 5.54219\ttrain's l2: 30.7159\tval's rmse: 5.64819\tval's l2: 31.9021\n[450]\ttrain's rmse: 5.53691\ttrain's l2: 30.6574\tval's rmse: 5.64659\tval's l2: 31.884\n[460]\ttrain's rmse: 5.53139\ttrain's l2: 30.5963\tval's rmse: 5.64493\tval's l2: 31.8652\n[470]\ttrain's rmse: 5.52584\ttrain's l2: 30.5349\tval's rmse: 5.64196\tval's l2: 31.8318\n[480]\ttrain's rmse: 5.52199\ttrain's l2: 30.4923\tval's rmse: 5.6406\tval's l2: 31.8163\n[490]\ttrain's rmse: 5.51666\ttrain's l2: 30.4335\tval's rmse: 5.63859\tval's l2: 31.7937\n[500]\ttrain's rmse: 5.51267\ttrain's l2: 30.3896\tval's rmse: 5.63877\tval's l2: 31.7957\n",
      "[510]\ttrain's rmse: 5.50725\ttrain's l2: 30.3299\tval's rmse: 5.6361\tval's l2: 31.7656\n[520]\ttrain's rmse: 5.50196\ttrain's l2: 30.2716\tval's rmse: 5.63524\tval's l2: 31.7559\n[530]\ttrain's rmse: 5.49733\ttrain's l2: 30.2206\tval's rmse: 5.63342\tval's l2: 31.7354\n[540]\ttrain's rmse: 5.493\ttrain's l2: 30.1731\tval's rmse: 5.63236\tval's l2: 31.7235\n[550]\ttrain's rmse: 5.48949\ttrain's l2: 30.1345\tval's rmse: 5.63336\tval's l2: 31.7348\n[560]\ttrain's rmse: 5.48575\ttrain's l2: 30.0934\tval's rmse: 5.63333\tval's l2: 31.7344\nEarly stopping, best iteration is:\n[540]\ttrain's rmse: 5.493\ttrain's l2: 30.1731\tval's rmse: 5.63236\tval's l2: 31.7235\n",
      "Training until validation scores don't improve for 20 rounds.\n[10]\ttrain's rmse: 9.44911\ttrain's l2: 89.2857\tval's rmse: 9.44429\tval's l2: 89.1947\n[20]\ttrain's rmse: 8.9475\ttrain's l2: 80.0577\tval's rmse: 8.94545\tval's l2: 80.021\n[30]\ttrain's rmse: 8.50181\ttrain's l2: 72.2807\tval's rmse: 8.50149\tval's l2: 72.2754\n[40]\ttrain's rmse: 8.09769\ttrain's l2: 65.5725\tval's rmse: 8.09996\tval's l2: 65.6094\n",
      "[50]\ttrain's rmse: 7.76114\ttrain's l2: 60.2353\tval's rmse: 7.76586\tval's l2: 60.3086\n[60]\ttrain's rmse: 7.44727\ttrain's l2: 55.4619\tval's rmse: 7.45505\tval's l2: 55.5777\n[70]\ttrain's rmse: 7.19067\ttrain's l2: 51.7057\tval's rmse: 7.20155\tval's l2: 51.8623\n[80]\ttrain's rmse: 6.96288\ttrain's l2: 48.4817\tval's rmse: 6.97641\tval's l2: 48.6703\n[90]\ttrain's rmse: 6.76135\ttrain's l2: 45.7159\tval's rmse: 6.77805\tval's l2: 45.942\n[100]\ttrain's rmse: 6.59722\ttrain's l2: 43.5233\tval's rmse: 6.61645\tval's l2: 43.7774\n[110]\ttrain's rmse: 6.45384\ttrain's l2: 41.652\tval's rmse: 6.47724\tval's l2: 41.9546\n[120]\ttrain's rmse: 6.32761\ttrain's l2: 40.0386\tval's rmse: 6.35364\tval's l2: 40.3687\n[130]\ttrain's rmse: 6.22326\ttrain's l2: 38.7289\tval's rmse: 6.25326\tval's l2: 39.1032\n[140]\ttrain's rmse: 6.13604\ttrain's l2: 37.651\tval's rmse: 6.16873\tval's l2: 38.0532\n",
      "[150]\ttrain's rmse: 6.05989\ttrain's l2: 36.7223\tval's rmse: 6.09562\tval's l2: 37.1565\n[160]\ttrain's rmse: 5.99494\ttrain's l2: 35.9393\tval's rmse: 6.03406\tval's l2: 36.4099\n[170]\ttrain's rmse: 5.93735\ttrain's l2: 35.2521\tval's rmse: 5.97901\tval's l2: 35.7486\n[180]\ttrain's rmse: 5.89067\ttrain's l2: 34.7\tval's rmse: 5.93553\tval's l2: 35.2305\n[190]\ttrain's rmse: 5.84878\ttrain's l2: 34.2082\tval's rmse: 5.8972\tval's l2: 34.7769\n[200]\ttrain's rmse: 5.81483\ttrain's l2: 33.8123\tval's rmse: 5.86678\tval's l2: 34.4191\n[210]\ttrain's rmse: 5.78485\ttrain's l2: 33.4645\tval's rmse: 5.84116\tval's l2: 34.1192\n[220]\ttrain's rmse: 5.76016\ttrain's l2: 33.1794\tval's rmse: 5.81968\tval's l2: 33.8687\n[230]\ttrain's rmse: 5.73625\ttrain's l2: 32.9046\tval's rmse: 5.79876\tval's l2: 33.6256\n",
      "[240]\ttrain's rmse: 5.71508\ttrain's l2: 32.6622\tval's rmse: 5.78101\tval's l2: 33.4201\n[250]\ttrain's rmse: 5.69589\ttrain's l2: 32.4432\tval's rmse: 5.76521\tval's l2: 33.2376\n[260]\ttrain's rmse: 5.68104\ttrain's l2: 32.2742\tval's rmse: 5.75303\tval's l2: 33.0974\n[270]\ttrain's rmse: 5.66579\ttrain's l2: 32.1012\tval's rmse: 5.74143\tval's l2: 32.964\n[280]\ttrain's rmse: 5.65407\ttrain's l2: 31.9685\tval's rmse: 5.73349\tval's l2: 32.8729\n[290]\ttrain's rmse: 5.64266\ttrain's l2: 31.8396\tval's rmse: 5.72626\tval's l2: 32.79\n[300]\ttrain's rmse: 5.63246\ttrain's l2: 31.7246\tval's rmse: 5.71967\tval's l2: 32.7147\n[310]\ttrain's rmse: 5.62235\ttrain's l2: 31.6108\tval's rmse: 5.71359\tval's l2: 32.6452\n[320]\ttrain's rmse: 5.61229\ttrain's l2: 31.4978\tval's rmse: 5.70726\tval's l2: 32.5728\n[330]\ttrain's rmse: 5.60334\ttrain's l2: 31.3974\tval's rmse: 5.70192\tval's l2: 32.5119\n[340]\ttrain's rmse: 5.59502\ttrain's l2: 31.3043\tval's rmse: 5.69732\tval's l2: 32.4595\n[350]\ttrain's rmse: 5.58729\ttrain's l2: 31.2179\tval's rmse: 5.69261\tval's l2: 32.4058\n[360]\ttrain's rmse: 5.58074\ttrain's l2: 31.1447\tval's rmse: 5.68842\tval's l2: 32.3581\n",
      "[370]\ttrain's rmse: 5.57419\ttrain's l2: 31.0716\tval's rmse: 5.68546\tval's l2: 32.3245\n[380]\ttrain's rmse: 5.56822\ttrain's l2: 31.005\tval's rmse: 5.68295\tval's l2: 32.2959\n[390]\ttrain's rmse: 5.56292\ttrain's l2: 30.9461\tval's rmse: 5.68109\tval's l2: 32.2748\n[400]\ttrain's rmse: 5.5562\ttrain's l2: 30.8714\tval's rmse: 5.67733\tval's l2: 32.232\n[410]\ttrain's rmse: 5.55158\ttrain's l2: 30.82\tval's rmse: 5.67528\tval's l2: 32.2088\n[420]\ttrain's rmse: 5.5457\ttrain's l2: 30.7548\tval's rmse: 5.67249\tval's l2: 32.1771\n[430]\ttrain's rmse: 5.54126\ttrain's l2: 30.7055\tval's rmse: 5.67071\tval's l2: 32.157\n[440]\ttrain's rmse: 5.53613\ttrain's l2: 30.6487\tval's rmse: 5.6683\tval's l2: 32.1296\n[450]\ttrain's rmse: 5.53136\ttrain's l2: 30.596\tval's rmse: 5.66655\tval's l2: 32.1098\n[460]\ttrain's rmse: 5.52694\ttrain's l2: 30.547\tval's rmse: 5.66596\tval's l2: 32.1031\n[470]\ttrain's rmse: 5.52211\ttrain's l2: 30.4937\tval's rmse: 5.66376\tval's l2: 32.0782\n[480]\ttrain's rmse: 5.51714\ttrain's l2: 30.4388\tval's rmse: 5.66382\tval's l2: 32.0788\n[490]\ttrain's rmse: 5.51126\ttrain's l2: 30.374\tval's rmse: 5.66112\tval's l2: 32.0483\n[500]\ttrain's rmse: 5.50768\ttrain's l2: 30.3346\tval's rmse: 5.65997\tval's l2: 32.0352\n",
      "[510]\ttrain's rmse: 5.50305\ttrain's l2: 30.2836\tval's rmse: 5.65824\tval's l2: 32.0157\n[520]\ttrain's rmse: 5.49879\ttrain's l2: 30.2367\tval's rmse: 5.65692\tval's l2: 32.0008\n[530]\ttrain's rmse: 5.49396\ttrain's l2: 30.1836\tval's rmse: 5.65412\tval's l2: 31.9691\n[540]\ttrain's rmse: 5.48971\ttrain's l2: 30.137\tval's rmse: 5.65288\tval's l2: 31.9551\n[550]\ttrain's rmse: 5.48638\ttrain's l2: 30.1004\tval's rmse: 5.65197\tval's l2: 31.9447\n[560]\ttrain's rmse: 5.48225\ttrain's l2: 30.0551\tval's rmse: 5.65052\tval's l2: 31.9283\n[570]\ttrain's rmse: 5.47972\ttrain's l2: 30.0274\tval's rmse: 5.65015\tval's l2: 31.9242\n[580]\ttrain's rmse: 5.47678\ttrain's l2: 29.9951\tval's rmse: 5.64868\tval's l2: 31.9076\n[590]\ttrain's rmse: 5.47412\ttrain's l2: 29.966\tval's rmse: 5.64796\tval's l2: 31.8995\n[600]\ttrain's rmse: 5.47068\ttrain's l2: 29.9284\tval's rmse: 5.6474\tval's l2: 31.8931\n[610]\ttrain's rmse: 5.46764\ttrain's l2: 29.895\tval's rmse: 5.64691\tval's l2: 31.8876\n[620]\ttrain's rmse: 5.46387\ttrain's l2: 29.8539\tval's rmse: 5.64532\tval's l2: 31.8697\n[630]\ttrain's rmse: 5.46031\ttrain's l2: 29.815\tval's rmse: 5.64299\tval's l2: 31.8434\n[640]\ttrain's rmse: 5.45825\ttrain's l2: 29.7924\tval's rmse: 5.64415\tval's l2: 31.8565\n[650]\ttrain's rmse: 5.45526\ttrain's l2: 29.7598\tval's rmse: 5.64335\tval's l2: 31.8474\nEarly stopping, best iteration is:\n[630]\ttrain's rmse: 5.46031\ttrain's l2: 29.815\tval's rmse: 5.64299\tval's l2: 31.8434\n",
      "Training until validation scores don't improve for 20 rounds.\n[10]\ttrain's rmse: 9.44854\ttrain's l2: 89.2749\tval's rmse: 9.44248\tval's l2: 89.1605\n[20]\ttrain's rmse: 8.945\ttrain's l2: 80.0129\tval's rmse: 8.94833\tval's l2: 80.0725\n[30]\ttrain's rmse: 8.49959\ttrain's l2: 72.2431\tval's rmse: 8.51057\tval's l2: 72.4299\n[40]\ttrain's rmse: 8.09571\ttrain's l2: 65.5406\tval's rmse: 8.11462\tval's l2: 65.847\n[50]\ttrain's rmse: 7.75814\ttrain's l2: 60.1888\tval's rmse: 7.78384\tval's l2: 60.5881\n[60]\ttrain's rmse: 7.44386\ttrain's l2: 55.411\tval's rmse: 7.47509\tval's l2: 55.877\n[70]\ttrain's rmse: 7.18766\ttrain's l2: 51.6625\tval's rmse: 7.22436\tval's l2: 52.1914\n",
      "[80]\ttrain's rmse: 6.95849\ttrain's l2: 48.4205\tval's rmse: 6.9999\tval's l2: 48.9986\n[90]\ttrain's rmse: 6.75651\ttrain's l2: 45.6504\tval's rmse: 6.80241\tval's l2: 46.2727\n[100]\ttrain's rmse: 6.59135\ttrain's l2: 43.4459\tval's rmse: 6.64147\tval's l2: 44.1091\n[110]\ttrain's rmse: 6.44831\ttrain's l2: 41.5806\tval's rmse: 6.5032\tval's l2: 42.2917\n[120]\ttrain's rmse: 6.32128\ttrain's l2: 39.9586\tval's rmse: 6.38045\tval's l2: 40.7101\n[130]\ttrain's rmse: 6.21587\ttrain's l2: 38.637\tval's rmse: 6.27981\tval's l2: 39.436\n[140]\ttrain's rmse: 6.12802\ttrain's l2: 37.5526\tval's rmse: 6.19652\tval's l2: 38.3968\n",
      "[150]\ttrain's rmse: 6.05132\ttrain's l2: 36.6185\tval's rmse: 6.12443\tval's l2: 37.5086\n[160]\ttrain's rmse: 5.98499\ttrain's l2: 35.8202\tval's rmse: 6.06202\tval's l2: 36.7481\n[170]\ttrain's rmse: 5.92707\ttrain's l2: 35.1302\tval's rmse: 6.00842\tval's l2: 36.1011\n[180]\ttrain's rmse: 5.8801\ttrain's l2: 34.5756\tval's rmse: 5.96595\tval's l2: 35.5926\n[190]\ttrain's rmse: 5.83768\ttrain's l2: 34.0785\tval's rmse: 5.92777\tval's l2: 35.1384\n[200]\ttrain's rmse: 5.80338\ttrain's l2: 33.6792\tval's rmse: 5.89729\tval's l2: 34.778\n[210]\ttrain's rmse: 5.77354\ttrain's l2: 33.3337\tval's rmse: 5.87116\tval's l2: 34.4705",
      "\n[220]\ttrain's rmse: 5.74774\ttrain's l2: 33.0366\tval's rmse: 5.84948\tval's l2: 34.2164\n[230]\ttrain's rmse: 5.72342\ttrain's l2: 32.7575\tval's rmse: 5.82904\tval's l2: 33.9777\n[240]\ttrain's rmse: 5.70236\ttrain's l2: 32.517\tval's rmse: 5.81138\tval's l2: 33.7722\n[250]\ttrain's rmse: 5.68428\ttrain's l2: 32.311\tval's rmse: 5.79719\tval's l2: 33.6074\n[260]\ttrain's rmse: 5.66947\ttrain's l2: 32.1429\tval's rmse: 5.78546\tval's l2: 33.4716\n[270]\ttrain's rmse: 5.65372\ttrain's l2: 31.9645\tval's rmse: 5.77423\tval's l2: 33.3417\n[280]\ttrain's rmse: 5.64138\ttrain's l2: 31.8251\tval's rmse: 5.7647\tval's l2: 33.2317\n[290]\ttrain's rmse: 5.62981\ttrain's l2: 31.6948\tval's rmse: 5.75627\tval's l2: 33.1347\n[300]\ttrain's rmse: 5.61929\ttrain's l2: 31.5764\tval's rmse: 5.74934\tval's l2: 33.0549\n[310]\ttrain's rmse: 5.60912\ttrain's l2: 31.4622\tval's rmse: 5.74308\tval's l2: 32.9829\n[320]\ttrain's rmse: 5.5989\ttrain's l2: 31.3477\tval's rmse: 5.73678\tval's l2: 32.9107\n",
      "[330]\ttrain's rmse: 5.59064\ttrain's l2: 31.2553\tval's rmse: 5.73184\tval's l2: 32.854\n[340]\ttrain's rmse: 5.5828\ttrain's l2: 31.1677\tval's rmse: 5.7266\tval's l2: 32.7939\n[350]\ttrain's rmse: 5.57561\ttrain's l2: 31.0874\tval's rmse: 5.72337\tval's l2: 32.757\n[360]\ttrain's rmse: 5.56915\ttrain's l2: 31.0154\tval's rmse: 5.71993\tval's l2: 32.7176\n[370]\ttrain's rmse: 5.56234\ttrain's l2: 30.9396\tval's rmse: 5.71578\tval's l2: 32.6701\n[380]\ttrain's rmse: 5.55599\ttrain's l2: 30.869\tval's rmse: 5.71273\tval's l2: 32.6353\n[390]\ttrain's rmse: 5.55075\ttrain's l2: 30.8108\tval's rmse: 5.71053\tval's l2: 32.6101\n[400]\ttrain's rmse: 5.54365\ttrain's l2: 30.7321\tval's rmse: 5.70692\tval's l2: 32.5689\n[410]\ttrain's rmse: 5.53978\ttrain's l2: 30.6892\tval's rmse: 5.70634\tval's l2: 32.5623\n[420]\ttrain's rmse: 5.53492\ttrain's l2: 30.6353\tval's rmse: 5.70414\tval's l2: 32.5372\n[430]\ttrain's rmse: 5.53002\ttrain's l2: 30.5812\tval's rmse: 5.70312\tval's l2: 32.5255\n[440]\ttrain's rmse: 5.52463\ttrain's l2: 30.5216\tval's rmse: 5.70005\tval's l2: 32.4906\n[450]\ttrain's rmse: 5.52001\ttrain's l2: 30.4705\tval's rmse: 5.69814\tval's l2: 32.4688\n[460]\ttrain's rmse: 5.51499\ttrain's l2: 30.4152\tval's rmse: 5.69631\tval's l2: 32.4479\n",
      "[470]\ttrain's rmse: 5.50937\ttrain's l2: 30.3532\tval's rmse: 5.69447\tval's l2: 32.427\n[480]\ttrain's rmse: 5.50424\ttrain's l2: 30.2966\tval's rmse: 5.69353\tval's l2: 32.4162\n[490]\ttrain's rmse: 5.49853\ttrain's l2: 30.2339\tval's rmse: 5.69136\tval's l2: 32.3915\n[500]\ttrain's rmse: 5.49425\ttrain's l2: 30.1867\tval's rmse: 5.69028\tval's l2: 32.3793\n[510]\ttrain's rmse: 5.48858\ttrain's l2: 30.1245\tval's rmse: 5.68805\tval's l2: 32.354\n[520]\ttrain's rmse: 5.48446\ttrain's l2: 30.0793\tval's rmse: 5.68744\tval's l2: 32.347\n[530]\ttrain's rmse: 5.48043\ttrain's l2: 30.0351\tval's rmse: 5.68643\tval's l2: 32.3355\n[540]\ttrain's rmse: 5.4767\ttrain's l2: 29.9942\tval's rmse: 5.68632\tval's l2: 32.3342\nEarly stopping, best iteration is:\n[529]\ttrain's rmse: 5.48053\ttrain's l2: 30.0362\tval's rmse: 5.68602\tval's l2: 32.3308\n",
      "CV score:  5.665494296362461\n"
     ],
     "output_type": "stream"
    },
    {
     "name": "stderr",
     "text": [
      "/home/wjunneng/Python/anaconda3/envs/lightgbm/lib/python3.6/site-packages/sklearn/model_selection/_split.py:657: Warning: The least populated class in y has only 1 members, which is too few. The minimum number of members in any class cannot be less than n_splits=5.\n  % (min_groups, self.n_splits)), Warning)\n"
     ],
     "output_type": "stream"
    }
   ],
   "source": [
    "test_y = np.zeros(len(df_test))\n",
    "random_seed = 2018\n",
    "cv_model = []\n",
    "cv_score = []\n",
    "skf = StratifiedKFold(n_splits=5, random_state=random_seed, shuffle=True)\n",
    "for index, (train_index, test_index) in enumerate(skf.split(X_train, y)):\n",
    "    #print(index)\n",
    "    train_x, val_x, train_y, val_y = X_train.iloc[train_index], X_train.iloc[test_index], y.iloc[train_index], y.iloc[test_index]\n",
    "    lgb_params = {\n",
    "        'boosting_type': 'gbdt',\n",
    "        'objective': 'regression',\n",
    "        'n_estimators': 10000,\n",
    "        #'metric': 'mae',\n",
    "        'learning_rate': 0.01,\n",
    "        'min_child_samples': 46,\n",
    "        'min_child_weight': 0.01,\n",
    "        'subsample_freq': 1,\n",
    "        'num_leaves': 40,\n",
    "        'max_depth': 7,\n",
    "        'subsample': 0.42,\n",
    "        'colsample_bytree': 0.48,\n",
    "        'reg_alpha': 0.15,\n",
    "        'reg_lambda': 5,\n",
    "        'verbose': -1,\n",
    "        'seed': 4590\n",
    "    }\n",
    "    lgb = LGBMRegressor(**lgb_params)\n",
    "\n",
    "\n",
    "    lgb.fit(\n",
    "        train_x,\n",
    "        train_y,\n",
    "        eval_set=[(train_x, train_y), (val_x, val_y)],\n",
    "        eval_names=['train', 'val'],\n",
    "        eval_metric='rmse',\n",
    "        #eval_metric = evaluate_macroF1_lgb, \n",
    "        early_stopping_rounds=20,\n",
    "        verbose=10,\n",
    "    )\n",
    "    cv_model.append(lgb)\n",
    "    lgb.n_estimators = lgb.best_iteration_\n",
    "    val_y_pred = lgb.predict(val_x)\n",
    "    cv_score.append( np.sqrt(mean_squared_error(val_y,val_y_pred)))\n",
    "    test_y += lgb.predict(df_test[col])/5\n",
    "print(\"CV score: \",np.mean(cv_score))\n"
   ]
  },
  {
   "cell_type": "code",
   "execution_count": 49,
   "metadata": {
    "collapsed": false,
    "pycharm": {
     "is_executing": false
    }
   },
   "outputs": [
    {
     "data": {
      "text/plain": "array([81.61697357, 77.79347135, 79.81865341, ..., 75.74669072,\n       71.2816731 , 70.32504392])"
     },
     "metadata": {},
     "output_type": "execute_result",
     "execution_count": 49
    }
   ],
   "source": [
    "test_y\n"
   ]
  },
  {
   "cell_type": "code",
   "execution_count": 50,
   "metadata": {
    "collapsed": false,
    "pycharm": {
     "is_executing": false
    }
   },
   "outputs": [],
   "source": [
    "sub_test = pd.read_csv('/home/wjunneng/Python/ForecastScore/data/test_s1/submission_s1.csv')\n"
   ]
  },
  {
   "cell_type": "code",
   "execution_count": 51,
   "metadata": {
    "collapsed": false,
    "pycharm": {
     "is_executing": false
    }
   },
   "outputs": [],
   "source": [
    "sub_test['pred'] = test_y\n"
   ]
  },
  {
   "cell_type": "code",
   "execution_count": 52,
   "metadata": {
    "collapsed": false,
    "pycharm": {
     "is_executing": false
    }
   },
   "outputs": [
    {
     "data": {
      "text/plain": "      student_id   course   exam_id       pred\n0         230748  course1  m31I6cTD  81.616974\n1         186851  course1  m31I6cTD  77.793471\n2         478370  course1  m31I6cTD  79.818653\n3         692328  course1  m31I6cTD  82.282675\n4         509128  course1  m31I6cTD  79.493475\n...          ...      ...       ...        ...\n7995      743747  course8  Vdo50vyP  86.245411\n7996      719678  course8  Vdo50vyP  82.493726\n7997      227750  course8  Vdo50vyP  75.746691\n7998      181683  course8  Vdo50vyP  71.281673\n7999      270481  course8  Vdo50vyP  70.325044\n\n[8000 rows x 4 columns]",
      "text/html": "<div>\n<style scoped>\n    .dataframe tbody tr th:only-of-type {\n        vertical-align: middle;\n    }\n\n    .dataframe tbody tr th {\n        vertical-align: top;\n    }\n\n    .dataframe thead th {\n        text-align: right;\n    }\n</style>\n<table border=\"1\" class=\"dataframe\">\n  <thead>\n    <tr style=\"text-align: right;\">\n      <th></th>\n      <th>student_id</th>\n      <th>course</th>\n      <th>exam_id</th>\n      <th>pred</th>\n    </tr>\n  </thead>\n  <tbody>\n    <tr>\n      <th>0</th>\n      <td>230748</td>\n      <td>course1</td>\n      <td>m31I6cTD</td>\n      <td>81.616974</td>\n    </tr>\n    <tr>\n      <th>1</th>\n      <td>186851</td>\n      <td>course1</td>\n      <td>m31I6cTD</td>\n      <td>77.793471</td>\n    </tr>\n    <tr>\n      <th>2</th>\n      <td>478370</td>\n      <td>course1</td>\n      <td>m31I6cTD</td>\n      <td>79.818653</td>\n    </tr>\n    <tr>\n      <th>3</th>\n      <td>692328</td>\n      <td>course1</td>\n      <td>m31I6cTD</td>\n      <td>82.282675</td>\n    </tr>\n    <tr>\n      <th>4</th>\n      <td>509128</td>\n      <td>course1</td>\n      <td>m31I6cTD</td>\n      <td>79.493475</td>\n    </tr>\n    <tr>\n      <th>5</th>\n      <td>604234</td>\n      <td>course1</td>\n      <td>m31I6cTD</td>\n      <td>96.732014</td>\n    </tr>\n    <tr>\n      <th>6</th>\n      <td>992922</td>\n      <td>course1</td>\n      <td>m31I6cTD</td>\n      <td>78.152273</td>\n    </tr>\n    <tr>\n      <th>7</th>\n      <td>488841</td>\n      <td>course1</td>\n      <td>m31I6cTD</td>\n      <td>91.100404</td>\n    </tr>\n    <tr>\n      <th>8</th>\n      <td>831322</td>\n      <td>course1</td>\n      <td>m31I6cTD</td>\n      <td>80.736409</td>\n    </tr>\n    <tr>\n      <th>9</th>\n      <td>940245</td>\n      <td>course1</td>\n      <td>m31I6cTD</td>\n      <td>77.279305</td>\n    </tr>\n    <tr>\n      <th>10</th>\n      <td>543834</td>\n      <td>course1</td>\n      <td>m31I6cTD</td>\n      <td>76.189222</td>\n    </tr>\n    <tr>\n      <th>11</th>\n      <td>775703</td>\n      <td>course1</td>\n      <td>m31I6cTD</td>\n      <td>94.676780</td>\n    </tr>\n    <tr>\n      <th>12</th>\n      <td>967766</td>\n      <td>course1</td>\n      <td>m31I6cTD</td>\n      <td>92.991006</td>\n    </tr>\n    <tr>\n      <th>13</th>\n      <td>291359</td>\n      <td>course1</td>\n      <td>m31I6cTD</td>\n      <td>92.838528</td>\n    </tr>\n    <tr>\n      <th>14</th>\n      <td>226218</td>\n      <td>course1</td>\n      <td>m31I6cTD</td>\n      <td>93.928139</td>\n    </tr>\n    <tr>\n      <th>15</th>\n      <td>108246</td>\n      <td>course1</td>\n      <td>m31I6cTD</td>\n      <td>77.652948</td>\n    </tr>\n    <tr>\n      <th>16</th>\n      <td>209909</td>\n      <td>course1</td>\n      <td>m31I6cTD</td>\n      <td>74.718753</td>\n    </tr>\n    <tr>\n      <th>17</th>\n      <td>908801</td>\n      <td>course1</td>\n      <td>m31I6cTD</td>\n      <td>83.186801</td>\n    </tr>\n    <tr>\n      <th>18</th>\n      <td>227895</td>\n      <td>course1</td>\n      <td>m31I6cTD</td>\n      <td>75.182662</td>\n    </tr>\n    <tr>\n      <th>19</th>\n      <td>360479</td>\n      <td>course1</td>\n      <td>m31I6cTD</td>\n      <td>94.370470</td>\n    </tr>\n    <tr>\n      <th>20</th>\n      <td>121935</td>\n      <td>course1</td>\n      <td>m31I6cTD</td>\n      <td>82.601041</td>\n    </tr>\n    <tr>\n      <th>21</th>\n      <td>516713</td>\n      <td>course1</td>\n      <td>m31I6cTD</td>\n      <td>96.092630</td>\n    </tr>\n    <tr>\n      <th>22</th>\n      <td>553260</td>\n      <td>course1</td>\n      <td>m31I6cTD</td>\n      <td>74.761820</td>\n    </tr>\n    <tr>\n      <th>23</th>\n      <td>862740</td>\n      <td>course1</td>\n      <td>m31I6cTD</td>\n      <td>85.244504</td>\n    </tr>\n    <tr>\n      <th>24</th>\n      <td>282390</td>\n      <td>course1</td>\n      <td>m31I6cTD</td>\n      <td>90.547718</td>\n    </tr>\n    <tr>\n      <th>25</th>\n      <td>835300</td>\n      <td>course1</td>\n      <td>m31I6cTD</td>\n      <td>93.674514</td>\n    </tr>\n    <tr>\n      <th>26</th>\n      <td>974852</td>\n      <td>course1</td>\n      <td>m31I6cTD</td>\n      <td>77.625464</td>\n    </tr>\n    <tr>\n      <th>27</th>\n      <td>401010</td>\n      <td>course1</td>\n      <td>m31I6cTD</td>\n      <td>97.048561</td>\n    </tr>\n    <tr>\n      <th>28</th>\n      <td>321731</td>\n      <td>course1</td>\n      <td>m31I6cTD</td>\n      <td>96.680884</td>\n    </tr>\n    <tr>\n      <th>29</th>\n      <td>864600</td>\n      <td>course1</td>\n      <td>m31I6cTD</td>\n      <td>69.128782</td>\n    </tr>\n    <tr>\n      <th>...</th>\n      <td>...</td>\n      <td>...</td>\n      <td>...</td>\n      <td>...</td>\n    </tr>\n    <tr>\n      <th>7970</th>\n      <td>847249</td>\n      <td>course8</td>\n      <td>Vdo50vyP</td>\n      <td>70.899865</td>\n    </tr>\n    <tr>\n      <th>7971</th>\n      <td>128696</td>\n      <td>course8</td>\n      <td>Vdo50vyP</td>\n      <td>86.485209</td>\n    </tr>\n    <tr>\n      <th>7972</th>\n      <td>300487</td>\n      <td>course8</td>\n      <td>Vdo50vyP</td>\n      <td>88.387140</td>\n    </tr>\n    <tr>\n      <th>7973</th>\n      <td>173400</td>\n      <td>course8</td>\n      <td>Vdo50vyP</td>\n      <td>94.369555</td>\n    </tr>\n    <tr>\n      <th>7974</th>\n      <td>798636</td>\n      <td>course8</td>\n      <td>Vdo50vyP</td>\n      <td>80.136739</td>\n    </tr>\n    <tr>\n      <th>7975</th>\n      <td>201431</td>\n      <td>course8</td>\n      <td>Vdo50vyP</td>\n      <td>82.250987</td>\n    </tr>\n    <tr>\n      <th>7976</th>\n      <td>445198</td>\n      <td>course8</td>\n      <td>Vdo50vyP</td>\n      <td>74.905930</td>\n    </tr>\n    <tr>\n      <th>7977</th>\n      <td>919396</td>\n      <td>course8</td>\n      <td>Vdo50vyP</td>\n      <td>68.487291</td>\n    </tr>\n    <tr>\n      <th>7978</th>\n      <td>906998</td>\n      <td>course8</td>\n      <td>Vdo50vyP</td>\n      <td>93.140250</td>\n    </tr>\n    <tr>\n      <th>7979</th>\n      <td>422930</td>\n      <td>course8</td>\n      <td>Vdo50vyP</td>\n      <td>90.114455</td>\n    </tr>\n    <tr>\n      <th>7980</th>\n      <td>955606</td>\n      <td>course8</td>\n      <td>Vdo50vyP</td>\n      <td>69.336953</td>\n    </tr>\n    <tr>\n      <th>7981</th>\n      <td>979995</td>\n      <td>course8</td>\n      <td>Vdo50vyP</td>\n      <td>95.177022</td>\n    </tr>\n    <tr>\n      <th>7982</th>\n      <td>841637</td>\n      <td>course8</td>\n      <td>Vdo50vyP</td>\n      <td>93.259788</td>\n    </tr>\n    <tr>\n      <th>7983</th>\n      <td>907040</td>\n      <td>course8</td>\n      <td>Vdo50vyP</td>\n      <td>81.916620</td>\n    </tr>\n    <tr>\n      <th>7984</th>\n      <td>691675</td>\n      <td>course8</td>\n      <td>Vdo50vyP</td>\n      <td>89.781922</td>\n    </tr>\n    <tr>\n      <th>7985</th>\n      <td>743527</td>\n      <td>course8</td>\n      <td>Vdo50vyP</td>\n      <td>78.000457</td>\n    </tr>\n    <tr>\n      <th>7986</th>\n      <td>359824</td>\n      <td>course8</td>\n      <td>Vdo50vyP</td>\n      <td>74.922013</td>\n    </tr>\n    <tr>\n      <th>7987</th>\n      <td>536667</td>\n      <td>course8</td>\n      <td>Vdo50vyP</td>\n      <td>73.596751</td>\n    </tr>\n    <tr>\n      <th>7988</th>\n      <td>982063</td>\n      <td>course8</td>\n      <td>Vdo50vyP</td>\n      <td>83.467677</td>\n    </tr>\n    <tr>\n      <th>7989</th>\n      <td>548231</td>\n      <td>course8</td>\n      <td>Vdo50vyP</td>\n      <td>83.240466</td>\n    </tr>\n    <tr>\n      <th>7990</th>\n      <td>577866</td>\n      <td>course8</td>\n      <td>Vdo50vyP</td>\n      <td>85.456099</td>\n    </tr>\n    <tr>\n      <th>7991</th>\n      <td>490319</td>\n      <td>course8</td>\n      <td>Vdo50vyP</td>\n      <td>88.503393</td>\n    </tr>\n    <tr>\n      <th>7992</th>\n      <td>521121</td>\n      <td>course8</td>\n      <td>Vdo50vyP</td>\n      <td>74.170431</td>\n    </tr>\n    <tr>\n      <th>7993</th>\n      <td>155585</td>\n      <td>course8</td>\n      <td>Vdo50vyP</td>\n      <td>93.342235</td>\n    </tr>\n    <tr>\n      <th>7994</th>\n      <td>758749</td>\n      <td>course8</td>\n      <td>Vdo50vyP</td>\n      <td>84.934583</td>\n    </tr>\n    <tr>\n      <th>7995</th>\n      <td>743747</td>\n      <td>course8</td>\n      <td>Vdo50vyP</td>\n      <td>86.245411</td>\n    </tr>\n    <tr>\n      <th>7996</th>\n      <td>719678</td>\n      <td>course8</td>\n      <td>Vdo50vyP</td>\n      <td>82.493726</td>\n    </tr>\n    <tr>\n      <th>7997</th>\n      <td>227750</td>\n      <td>course8</td>\n      <td>Vdo50vyP</td>\n      <td>75.746691</td>\n    </tr>\n    <tr>\n      <th>7998</th>\n      <td>181683</td>\n      <td>course8</td>\n      <td>Vdo50vyP</td>\n      <td>71.281673</td>\n    </tr>\n    <tr>\n      <th>7999</th>\n      <td>270481</td>\n      <td>course8</td>\n      <td>Vdo50vyP</td>\n      <td>70.325044</td>\n    </tr>\n  </tbody>\n</table>\n<p>8000 rows × 4 columns</p>\n</div>"
     },
     "metadata": {},
     "output_type": "execute_result",
     "execution_count": 52
    }
   ],
   "source": [
    "sub_test\n"
   ]
  },
  {
   "cell_type": "code",
   "execution_count": 53,
   "metadata": {
    "collapsed": true,
    "pycharm": {
     "is_executing": false
    }
   },
   "outputs": [],
   "source": [
    "sub_test.to_csv('/home/wjunneng/Python/ForecastScore/data/test_s1/submission_s1_sample_baseline_1.csv',index=None)\n"
   ]
  },
  {
   "cell_type": "code",
   "execution_count": 54,
   "metadata": {
    "collapsed": false,
    "pycharm": {
     "is_executing": false
    }
   },
   "outputs": [
    {
     "data": {
      "text/plain": "<matplotlib.axes._subplots.AxesSubplot at 0x7f54212f4860>"
     },
     "metadata": {},
     "output_type": "execute_result",
     "execution_count": 54
    },
    {
     "data": {
      "text/plain": "<Figure size 576x576 with 1 Axes>",
      "image/png": "[encoded data removed]"
     },
     "metadata": {
      "needs_background": "light"
     },
     "output_type": "display_data"
    }
   ],
   "source": [
    "fi = []\n",
    "for i in cv_model:\n",
    "    tmp = {\n",
    "        'name' : col,\n",
    "        'score' : i.feature_importances_\n",
    "    }\n",
    "    fi.append(pd.DataFrame(tmp))\n",
    "    \n",
    "fi = pd.concat(fi)\n",
    "fig = plt.figure(figsize=(8,8))\n",
    "fi.groupby(['name'])['score'].agg('mean').sort_values(ascending=False).head(40).plot.barh()"
   ]
  },
  {
   "cell_type": "code",
   "execution_count": 53,
   "metadata": {
    "collapsed": true,
    "pycharm": {
     "is_executing": false,
     "name": "#%%\n"
    }
   },
   "outputs": [],
   "source": [
    "\n"
   ]
  }
 ],
 "metadata": {
  "kernelspec": {
   "name": "pycharm-e50da876",
   "language": "python",
   "display_name": "PyCharm (ForecastScore)"
  },
  "language_info": {
   "codemirror_mode": {
    "name": "ipython",
    "version": 3
   },
   "file_extension": ".py",
   "mimetype": "text/x-python",
   "name": "python",
   "nbconvert_exporter": "python",
   "pygments_lexer": "ipython3",
   "version": "3.6.2"
  },
  "pycharm": {
   "stem_cell": {
    "cell_type": "raw",
    "source": [],
    "metadata": {
     "collapsed": false
    }
   }
  }
 },
 "nbformat": 4,
 "nbformat_minor": 2
}